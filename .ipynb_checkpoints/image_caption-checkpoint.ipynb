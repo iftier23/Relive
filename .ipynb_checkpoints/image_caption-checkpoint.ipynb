{
 "cells": [
  {
   "cell_type": "code",
   "execution_count": 1,
   "metadata": {},
   "outputs": [
    {
     "name": "stdout",
     "output_type": "stream",
     "text": [
      "Collecting openai\n",
      "  Using cached openai-1.10.0-py3-none-any.whl (225 kB)\n",
      "Collecting distro<2,>=1.7.0\n",
      "  Using cached distro-1.9.0-py3-none-any.whl (20 kB)\n",
      "Collecting pydantic<3,>=1.9.0\n",
      "  Using cached pydantic-2.5.3-py3-none-any.whl (381 kB)\n",
      "Collecting tqdm>4\n",
      "  Using cached tqdm-4.66.1-py3-none-any.whl (78 kB)\n",
      "Requirement already satisfied: typing-extensions<5,>=4.7 in ./venv-proj/lib/python3.8/site-packages (from openai) (4.9.0)\n",
      "Requirement already satisfied: anyio<5,>=3.5.0 in ./venv-proj/lib/python3.8/site-packages (from openai) (4.2.0)\n",
      "Requirement already satisfied: sniffio in ./venv-proj/lib/python3.8/site-packages (from openai) (1.3.0)\n",
      "Collecting httpx<1,>=0.23.0\n",
      "  Using cached httpx-0.26.0-py3-none-any.whl (75 kB)\n",
      "Collecting pydantic-core==2.14.6\n",
      "  Using cached pydantic_core-2.14.6-cp38-cp38-manylinux_2_17_x86_64.manylinux2014_x86_64.whl (2.1 MB)\n",
      "Collecting annotated-types>=0.4.0\n",
      "  Using cached annotated_types-0.6.0-py3-none-any.whl (12 kB)\n",
      "Requirement already satisfied: idna>=2.8 in ./venv-proj/lib/python3.8/site-packages (from anyio<5,>=3.5.0->openai) (3.6)\n",
      "Requirement already satisfied: exceptiongroup>=1.0.2; python_version < \"3.11\" in ./venv-proj/lib/python3.8/site-packages (from anyio<5,>=3.5.0->openai) (1.2.0)\n",
      "Collecting httpcore==1.*\n",
      "  Using cached httpcore-1.0.2-py3-none-any.whl (76 kB)\n",
      "Requirement already satisfied: certifi in ./venv-proj/lib/python3.8/site-packages (from httpx<1,>=0.23.0->openai) (2023.11.17)\n",
      "Collecting h11<0.15,>=0.13\n",
      "  Using cached h11-0.14.0-py3-none-any.whl (58 kB)\n",
      "Installing collected packages: distro, pydantic-core, annotated-types, pydantic, tqdm, h11, httpcore, httpx, openai\n",
      "Successfully installed annotated-types-0.6.0 distro-1.9.0 h11-0.14.0 httpcore-1.0.2 httpx-0.26.0 openai-1.10.0 pydantic-2.5.3 pydantic-core-2.14.6 tqdm-4.66.1\n"
     ]
    }
   ],
   "source": [
    "!pip install openai\n",
    "!pip install -q gradio\n",
    "!pip install cohere altair umap-learn -q"
   ]
  },
  {
   "cell_type": "code",
   "execution_count": 2,
   "metadata": {},
   "outputs": [],
   "source": [
    "import os\n",
    "import requests\n",
    "\n",
    "# Create the 'images' directory if it doesn't exist\n",
    "os.makedirs('images', exist_ok=True)\n",
    "\n",
    "# List of image URLs\n",
    "image_urls = [\n",
    "    'https://github.com/gradio-app/gradio/raw/main/demo/image_mod/images/cheetah1.jpg',\n",
    "    'https://github.com/gradio-app/gradio/raw/main/demo/image_mod/images/lion.jpg'\n",
    "]\n",
    "\n",
    "# Download each image and save it with a sequential name\n",
    "for i, url in enumerate(image_urls, start=1):\n",
    "    response = requests.get(url)\n",
    "    if response.status_code == 200:\n",
    "        filename = f'images/{i}.jpg'\n",
    "        with open(filename, 'wb') as file:\n",
    "            file.write(response.content)"
   ]
  },
  {
   "cell_type": "code",
   "execution_count": null,
   "metadata": {},
   "outputs": [],
   "source": [
    "import openai\n",
    "from getpass import getpass\n",
    "openai.api_key = getpass(\"Please enter your OpenAI API key:\")"
   ]
  },
  {
   "cell_type": "code",
   "execution_count": null,
   "metadata": {},
   "outputs": [],
   "source": [
    "import base64\n",
    "\n",
    "def encode_image(image_path):\n",
    "    with open(image_path, \"rb\") as image_file:\n",
    "        return base64.b64encode(image_file.read()).decode('utf-8')"
   ]
  },
  {
   "cell_type": "code",
   "execution_count": null,
   "metadata": {},
   "outputs": [],
   "source": [
    "from IPython.display import display, Image\n",
    "import textwrap\n",
    "\n",
    "x = 1\n",
    "image_path = 'images/'+str(x)+'.jpg'\n",
    "\n",
    "\n",
    "\n",
    "encoded_image = encode_image(image_path)\n",
    "\n",
    "result = openai.chat.completions.create(\n",
    "    model = \"gpt-4-vision-preview\",\n",
    "    messages=[\n",
    "        {\n",
    "            \"role\":\"user\",\n",
    "            \"content\": [\n",
    "                {\"type\": \"text\",\n",
    "                 \"text\": \"Explain what is happening in this image. Use only adjectives. Explain how you would feel if you were in this picture.\"},\n",
    "                 {\"type\": \"image_url\",\n",
    "                  \"image_url\": f\"data:image/jpeg;base64,{encoded_image}\"}\n",
    "            ]\n",
    "        },\n",
    "    ],\n",
    "    max_tokens=300\n",
    ")\n",
    "\n",
    "display(Image(image_path))\n",
    "print(textwrap.fill(result.choices[0].message.content, width=70))"
   ]
  },
  {
   "cell_type": "code",
   "execution_count": null,
   "metadata": {},
   "outputs": [],
   "source": [
    "import cohere\n",
    "import pandas as pd \n",
    "import numpy as np\n",
    "import altair as alt\n",
    "import textwrap as tr\n",
    "\n",
    "\n",
    "api_key = \"DjxrhBBFUfGrailmTKeNg2Zs3BWlvPUCJ8huwhDM\"\n",
    "co = cohere.Client(api_key)"
   ]
  },
  {
   "cell_type": "code",
   "execution_count": null,
   "metadata": {},
   "outputs": [],
   "source": [
    "prompt = \"LOL fill in later\" + result.choices[0].message.content\n",
    "\n",
    "response = co.generate(\n",
    "    model = 'command',\n",
    "    prompt = prompt,\n",
    "    max_tokens=200,\n",
    "    temperature=0.4\n",
    ")\n",
    "\n",
    "output = response.generations[0].text\n",
    "output = tr.fill(output, width=100)\n",
    "print(output)"
   ]
  }
 ],
 "metadata": {
  "kernelspec": {
   "display_name": "Python 3 (ipykernel)",
   "language": "python",
   "name": "python3"
  },
  "language_info": {
   "codemirror_mode": {
    "name": "ipython",
    "version": 3
   },
   "file_extension": ".py",
   "mimetype": "text/x-python",
   "name": "python",
   "nbconvert_exporter": "python",
   "pygments_lexer": "ipython3",
   "version": "3.8.10"
  }
 },
 "nbformat": 4,
 "nbformat_minor": 4
}
